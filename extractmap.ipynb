{
 "cells": [
  {
   "cell_type": "markdown",
   "metadata": {},
   "source": [
    "## Get GPS history from .txt file"
   ]
  },
  {
   "cell_type": "code",
   "execution_count": 9,
   "metadata": {},
   "outputs": [],
   "source": [
    "import matplotlib.pyplot as plt\n",
    "import numpy as np\n",
    "import urllib.request\n",
    "from PIL import Image\n",
    "import math\n",
    "\n",
    "from dotenv import load_dotenv\n",
    "import os"
   ]
  },
  {
   "cell_type": "code",
   "execution_count": 28,
   "metadata": {},
   "outputs": [],
   "source": [
    "#directories of kitti lidar dataset\n",
    "testpath = 'testing/oxts/'\n",
    "trainpath = 'training/oxts/'"
   ]
  },
  {
   "cell_type": "code",
   "execution_count": 3,
   "metadata": {},
   "outputs": [],
   "source": [
    "def get_file_name(x, scenario='um_', ext='.txt'):\n",
    "    #generate file name string\n",
    "    #in the style of kitti file names\n",
    "    mlen = 6\n",
    "    instr = str(x)\n",
    "    zlen = mlen - len(instr)\n",
    "    numstr = ''\n",
    "\n",
    "    for i in range(zlen):\n",
    "        numstr += '0'\n",
    "    numstr += instr\n",
    "    return scenario+numstr+ext"
   ]
  },
  {
   "cell_type": "code",
   "execution_count": 4,
   "metadata": {},
   "outputs": [],
   "source": [
    "def get_gps(x):\n",
    "    #returns lat, long, heading of specific timestep\n",
    "    with open(trainpath+get_file_name(x, scenario='uu_')) as f:\n",
    "        text = f.read()\n",
    "    list = text.split(' ')\n",
    "    f.close()\n",
    "    lat = list[0]\n",
    "    long = list[1]\n",
    "    heading = list[5]\n",
    "    return [float(lat), float(long), float(heading)]"
   ]
  },
  {
   "cell_type": "code",
   "execution_count": 5,
   "metadata": {},
   "outputs": [],
   "source": [
    "def make_gps_list(last):\n",
    "    #makes list of gps history\n",
    "    #input is an int indicating last file id\n",
    "    coords = []\n",
    "    for i in range(last+1):\n",
    "        point = get_gps(i)\n",
    "        coords.append(point)\n",
    "    coords = np.asarray(coords)\n",
    "    return coords"
   ]
  },
  {
   "cell_type": "code",
   "execution_count": 27,
   "metadata": {},
   "outputs": [
    {
     "data": {
      "text/plain": [
       "array([[49.00929592,  8.43740956, -0.26755467],\n",
       "       [49.00924383,  8.4376788 , -0.26708267],\n",
       "       [49.00918874,  8.43794475, -0.28912767],\n",
       "       [49.00913695,  8.43821767, -0.25900867],\n",
       "       [49.00908648,  8.43849399, -0.26364167],\n",
       "       [49.00903671,  8.43876618, -0.26486367],\n",
       "       [49.00898048,  8.43976423,  1.22561633],\n",
       "       [49.00915782,  8.43985119,  1.24870033],\n",
       "       [49.0093346 ,  8.43994865,  1.19607233],\n",
       "       [49.00950766,  8.44005921,  1.14287233],\n",
       "       [49.02582351,  8.44841156,  2.68752133]])"
      ]
     },
     "execution_count": 27,
     "metadata": {},
     "output_type": "execute_result"
    }
   ],
   "source": [
    "#list coordinates and heading\n",
    "coords = make_gps_list(10)\n",
    "coords"
   ]
  },
  {
   "cell_type": "markdown",
   "metadata": {},
   "source": [
    "## Access API and download images"
   ]
  },
  {
   "cell_type": "code",
   "execution_count": 21,
   "metadata": {},
   "outputs": [],
   "source": [
    "#load google api key, set download path\n",
    "load_dotenv()\n",
    "api_key = os.getenv('API_KEY')\n",
    "dlpath = 'download/'"
   ]
  },
  {
   "cell_type": "code",
   "execution_count": 22,
   "metadata": {},
   "outputs": [],
   "source": [
    "def make_url(lat,long,zoom=19,key=api_key):\n",
    "    #note: google maps static api ignores gps precision past 6th decimal place\n",
    "    url = \"https://maps.googleapis.com/maps/api/staticmap?center={},{}&zoom={}&size=800x800&style=feature:road|element:geometry|color:0x000000&style=feature:road.arterial|element:all|weight:0&style=feature:landscape|element:all|color:0xffffff&style=feature:all|element:labels|visibility:off&style=feature:water|visibility:off&style=feature:poi|element:all|visibility:off&key={}\".format(lat,long,zoom,key)\n",
    "    return url"
   ]
  },
  {
   "cell_type": "code",
   "execution_count": 23,
   "metadata": {},
   "outputs": [],
   "source": [
    "def access_api(url,n,spath=dlpath):\n",
    "    fname = get_file_name(n,scenario='uu_',ext='.png')\n",
    "    with urllib.request.urlopen(url) as page:\n",
    "        with open(spath+fname, 'wb') as f:\n",
    "            f.write(page.read())\n",
    "        f.close()"
   ]
  },
  {
   "cell_type": "code",
   "execution_count": 24,
   "metadata": {},
   "outputs": [],
   "source": [
    "def download_tiles(coords):\n",
    "    #given a list of gps coordinates\n",
    "    #download corresponding tiles from api\n",
    "    for count, c in enumerate(coords):\n",
    "        url = make_url(c[0],c[1])\n",
    "        access_api(url,count)\n",
    "    print('done!')"
   ]
  },
  {
   "cell_type": "code",
   "execution_count": 25,
   "metadata": {},
   "outputs": [
    {
     "name": "stdout",
     "output_type": "stream",
     "text": [
      "done!\n"
     ]
    }
   ],
   "source": [
    "download_tiles(coords)\n",
    "#make_url(49.0177435,8.44004242)\n",
    "#get_file_name(0,scenario='umm_',ext='.png')"
   ]
  },
  {
   "cell_type": "markdown",
   "metadata": {},
   "source": [
    "## Crop and rotate to desired heading"
   ]
  },
  {
   "cell_type": "code",
   "execution_count": 26,
   "metadata": {},
   "outputs": [],
   "source": [
    "BOX_W = 20\n",
    "BOX_L_F = 46\n",
    "BOX_L_R = 6\n",
    "finalpath = 'cropped/'\n",
    "\n",
    "def r2d(theta):\n",
    "    return (theta*180)/math.pi\n",
    "\n",
    "def d2r(theta):\n",
    "    return (theta*math.pi)/180\n",
    "\n",
    "def calc_mpp(lat, zoom=20):\n",
    "    #calculates meters per pixel at a certain latitude\n",
    "    return 156543.03392 * math.cos(d2r(lat)) / (2**20)\n",
    "\n",
    "#calc_mpp(49) returns 0.0979, assume constant in the same city\n",
    "\n",
    "def rotate_crop_image(x,heading,path=dlpath,spath=finalpath):\n",
    "    #given a file number, rotate and crop the image\n",
    "    #heading in degrees\n",
    "    imgname = get_file_name(x,scenario='uu_', ext='.png')\n",
    "    fpath = path + imgname\n",
    "    img = Image.open(fpath)\n",
    "    img = img.rotate(-heading+90)\n",
    "\n",
    "    #find coordinates for middle of picture\n",
    "    xmax = img.size[0]\n",
    "    ymax = img.size[1]\n",
    "    xmid = round(xmax/2)\n",
    "    ymid = round(ymax/2)\n",
    "    \n",
    "    #find crop size in pixels (upper left, lower right)\n",
    "    halfwidth = 100\n",
    "    rearlength = 60\n",
    "    frontlength = 460\n",
    "    croptuple = (xmid-halfwidth,\n",
    "                ymid-frontlength,\n",
    "                xmid+halfwidth,\n",
    "                ymid+rearlength)\n",
    "    \n",
    "    img = img.crop(croptuple)\n",
    "    #img.show()\n",
    "    img.save(spath+imgname)\n",
    "    \n"
   ]
  },
  {
   "cell_type": "code",
   "execution_count": 55,
   "metadata": {},
   "outputs": [],
   "source": [
    "for count, point in enumerate(coords[:,2]):\n",
    "    hd = r2d(point)\n",
    "    rotate_crop_image(count,hd)"
   ]
  },
  {
   "cell_type": "code",
   "execution_count": null,
   "metadata": {},
   "outputs": [],
   "source": []
  }
 ],
 "metadata": {
  "kernelspec": {
   "display_name": "Python 3",
   "language": "python",
   "name": "python3"
  },
  "language_info": {
   "codemirror_mode": {
    "name": "ipython",
    "version": 3
   },
   "file_extension": ".py",
   "mimetype": "text/x-python",
   "name": "python",
   "nbconvert_exporter": "python",
   "pygments_lexer": "ipython3",
   "version": "3.7.3"
  }
 },
 "nbformat": 4,
 "nbformat_minor": 4
}
